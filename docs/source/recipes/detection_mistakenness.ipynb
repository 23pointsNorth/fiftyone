{
 "cells": [
  {
   "cell_type": "markdown",
   "metadata": {},
   "source": [
    "# Finding Detection Mistakes with FiftyOne\n",
    "\n",
    "Finding mistakes in your annotations can be extremely tedious. The mistakenness feature of FiftyOne can be used to help you find annotation mistakes. Check out [our classification tutorial](https://voxel51.com/docs/fiftyone/tutorials/label_mistakes.html) to see how FiftyOne can help you find and correct label mistakes in your classification datasets.\n",
    "\n",
    "This recipe is designed to show you how you can use FiftyOne to compute mistakenness on your detection dataset, enabling you to curate higher quality datasets and, ultimately, train better models!"
   ]
  },
  {
   "cell_type": "markdown",
   "metadata": {},
   "source": [
    "## Overview\n",
    "\n",
    "In this recipe, we explore how FiftyOne can be used to help you find mistakes in your detection annotations.\n",
    "\n",
    "Requirements:\n",
    "\n",
    "- A detection model trained on the same label schema as the annotations you want to analyze\n",
    "- A FiftyOne Dataset with your annotations and predictions from the model with logits for each detection\n",
    "\n",
    "\n",
    "We'll cover the following concepts:\n",
    "\n",
    "-   Computing insights into your detection dataset relating to possible mistakes\n",
    "-   Visualizing the mistake in the FiftyOne App"
   ]
  },
  {
   "cell_type": "markdown",
   "metadata": {},
   "source": [
    "## Setup\n",
    "\n",
    "Your Dataset should have two `Detections` fields, one with your ground truth annotations and one with your model predictions.\n",
    "\n",
    "In this example, I used the `coco-2017-validation` dataset from the [FiftyOne zoo](https://voxel51.com/docs/fiftyone/user_guide/dataset_creation/zoo.html) and added predictions from the [PyTorch implementation of Faster-RCNN](https://github.com/pytorch/vision/blob/master/torchvision/models/detection/faster_rcnn.py)"
   ]
  },
  {
   "cell_type": "code",
   "execution_count": 1,
   "metadata": {},
   "outputs": [
    {
     "ename": "NameError",
     "evalue": "name 'dataset' is not defined",
     "output_type": "error",
     "traceback": [
      "\u001b[0;31m---------------------------------------------------------------------------\u001b[0m",
      "\u001b[0;31mNameError\u001b[0m                                 Traceback (most recent call last)",
      "\u001b[0;32m<ipython-input-1-5d1a1f7793bd>\u001b[0m in \u001b[0;36m<module>\u001b[0;34m\u001b[0m\n\u001b[1;32m      6\u001b[0m \u001b[0;31m#add_custom_predictions(dataset)\u001b[0m\u001b[0;34m\u001b[0m\u001b[0;34m\u001b[0m\u001b[0;34m\u001b[0m\u001b[0m\n\u001b[1;32m      7\u001b[0m \u001b[0;34m\u001b[0m\u001b[0m\n\u001b[0;32m----> 8\u001b[0;31m \u001b[0mprint\u001b[0m\u001b[0;34m(\u001b[0m\u001b[0mdataset\u001b[0m\u001b[0;34m)\u001b[0m\u001b[0;34m\u001b[0m\u001b[0;34m\u001b[0m\u001b[0m\n\u001b[0m",
      "\u001b[0;31mNameError\u001b[0m: name 'dataset' is not defined"
     ]
    }
   ],
   "source": [
    "import fiftyone as fo\n",
    "import fiftyone.zoo as foz\n",
    "\n",
    "#dataset = foz.load_zoo_dataset(\"coco-2017\", split=\"validation\")\n",
    "\n",
    "#add_custom_predictions(dataset)\n",
    "\n",
    "print(dataset)"
   ]
  },
  {
   "cell_type": "code",
   "execution_count": null,
   "metadata": {},
   "outputs": [],
   "source": []
  },
  {
   "cell_type": "markdown",
   "metadata": {},
   "source": [
    "## Find the mistakes\n",
    "\n",
    "Now we can run a method from the FiftyOne Brain that estimates the mistakenness of the\n",
    "ground truth detections for which we generated predictions:"
   ]
  },
  {
   "cell_type": "code",
   "execution_count": 8,
   "metadata": {},
   "outputs": [
    {
     "name": "stdout",
     "output_type": "stream",
     "text": [
      "Computing mistakenness for 1000 samples...\n",
      " 100% |███████████████████████████| 1000/1000 [1.3s elapsed, 0s remaining, 808.1 samples/s]         \n",
      "Mistakenness computation complete\n"
     ]
    }
   ],
   "source": [
    "import fiftyone.brain as fob\n",
    "\n",
    "# Compute mistakenness\n",
    "fob.compute_mistakenness(dataset, model_name, label_field=\"ground_truth\")"
   ]
  },
  {
   "cell_type": "markdown",
   "metadata": {},
   "source": [
    "The above method added `mistakenness` field to all samples for which we added\n",
    "predictions. We can easily sort by likelihood of mistakenness from code:"
   ]
  },
  {
   "cell_type": "code",
   "execution_count": 9,
   "metadata": {},
   "outputs": [
    {
     "name": "stdout",
     "output_type": "stream",
     "text": [
      "Dataset:        cifar10-test\n",
      "Num samples:    1000\n",
      "Tags:           ['test', 'processed', 'mistake']\n",
      "Sample fields:\n",
      "    filepath:     fiftyone.core.fields.StringField\n",
      "    tags:         fiftyone.core.fields.ListField(fiftyone.core.fields.StringField)\n",
      "    metadata:     fiftyone.core.fields.EmbeddedDocumentField(fiftyone.core.metadata.Metadata)\n",
      "    ground_truth: fiftyone.core.fields.EmbeddedDocumentField(fiftyone.core.labels.Classification)\n",
      "    resnet50:     fiftyone.core.fields.EmbeddedDocumentField(fiftyone.core.labels.Classification)\n",
      "    mistakenness: fiftyone.core.fields.FloatField\n",
      "Pipeline stages:\n",
      "    1. <fiftyone.core.stages.MatchTag object at 0x7f9cb80dbc50>\n",
      "    2. <fiftyone.core.stages.SortBy object at 0x7f9d4bbd14e0>\n"
     ]
    }
   ],
   "source": [
    "# Sort by likelihood of mistake (most likely first)\n",
    "mistake_view = (dataset\n",
    "    .match_tag(\"processed\")\n",
    "    .sort_by(\"mistakenness\", reverse=True)\n",
    ")\n",
    "\n",
    "# Print some information about the view\n",
    "print(mistake_view)"
   ]
  },
  {
   "cell_type": "code",
   "execution_count": 10,
   "metadata": {},
   "outputs": [
    {
     "name": "stdout",
     "output_type": "stream",
     "text": [
      "<Sample: {\n",
      "    'dataset_name': 'cifar10-test',\n",
      "    'id': '5ef384e36696dbdeabc6a88e',\n",
      "    'filepath': '/home/voxel51/fiftyone/cifar10/test/data/00107.jpg',\n",
      "    'tags': BaseList(['test', 'processed']),\n",
      "    'ground_truth': <Classification: {'label': 'deer'}>,\n",
      "    'resnet50': <Classification: {\n",
      "        'label': 'horse',\n",
      "        'logits': array([-0.83586901, -1.28598607,  1.54965878, -0.49650264, -0.40103185,\n",
      "               -0.18043809, -1.0332154 ,  5.05314684, -1.21831954, -1.15143788]),\n",
      "    }>,\n",
      "    'mistakenness': 1.0,\n",
      "}>\n",
      "<Sample: {\n",
      "    'dataset_name': 'cifar10-test',\n",
      "    'id': '5ef384e36696dbdeabc6a86f',\n",
      "    'filepath': '/home/voxel51/fiftyone/cifar10/test/data/00076.jpg',\n",
      "    'tags': BaseList(['test', 'processed']),\n",
      "    'ground_truth': <Classification: {'label': 'bird'}>,\n",
      "    'resnet50': <Classification: {\n",
      "        'label': 'deer',\n",
      "        'logits': array([-0.72157425, -0.94043797, -0.32308894, -0.19049911,  4.82478857,\n",
      "               -0.35608411, -0.35027471, -0.25426134, -0.77823019, -0.91033494]),\n",
      "    }>,\n",
      "    'mistakenness': 1.0,\n",
      "}>\n",
      "<Sample: {\n",
      "    'dataset_name': 'cifar10-test',\n",
      "    'id': '5ef384e36696dbdeabc6a838',\n",
      "    'filepath': '/home/voxel51/fiftyone/cifar10/test/data/00021.jpg',\n",
      "    'tags': BaseList(['test', 'mistake', 'processed']),\n",
      "    'ground_truth': <Classification: {'label': 'frog'}>,\n",
      "    'resnet50': <Classification: {\n",
      "        'label': 'deer',\n",
      "        'logits': array([-0.77428126, -1.11018133,  1.21526551, -0.23978873,  3.74053574,\n",
      "               -0.37081209,  0.20087151, -0.54353052, -1.05138922, -1.06668639]),\n",
      "    }>,\n",
      "    'mistakenness': 1.0,\n",
      "}>\n"
     ]
    }
   ],
   "source": [
    "# Inspect the first few samples\n",
    "print(mistake_view.head())"
   ]
  },
  {
   "cell_type": "markdown",
   "metadata": {},
   "source": [
    "Let's use the App to visually inspect the results:"
   ]
  },
  {
   "cell_type": "code",
   "execution_count": 11,
   "metadata": {},
   "outputs": [
    {
     "name": "stdout",
     "output_type": "stream",
     "text": [
      "App launched\n"
     ]
    }
   ],
   "source": [
    "# Launch the FiftyOne App\n",
    "session = fo.launch_app()\n",
    "\n",
    "# Open your dataset in the App\n",
    "session.dataset = dataset"
   ]
  },
  {
   "cell_type": "markdown",
   "metadata": {},
   "source": [
    "![dataset](images/label_mistakes_1.png)"
   ]
  },
  {
   "cell_type": "code",
   "execution_count": 12,
   "metadata": {},
   "outputs": [],
   "source": [
    "# Show only the samples that were processed\n",
    "session.view = dataset.match_tag(\"processed\")"
   ]
  },
  {
   "cell_type": "markdown",
   "metadata": {},
   "source": [
    "![processed](images/label_mistakes_2.png)"
   ]
  },
  {
   "cell_type": "code",
   "execution_count": 13,
   "metadata": {},
   "outputs": [],
   "source": [
    "# Show only the samples for which we added label mistakes\n",
    "session.view = dataset.match_tag(\"mistake\")"
   ]
  },
  {
   "cell_type": "markdown",
   "metadata": {},
   "source": [
    "![mistake](images/label_mistakes_3.png)"
   ]
  },
  {
   "cell_type": "code",
   "execution_count": 14,
   "metadata": {},
   "outputs": [],
   "source": [
    "# Show the samples we processed in rank order by the mistakenness\n",
    "session.view = mistake_view"
   ]
  },
  {
   "cell_type": "markdown",
   "metadata": {},
   "source": [
    "![mistake-view](images/label_mistakes_4.png)"
   ]
  }
 ],
 "metadata": {
  "kernelspec": {
   "display_name": "Python 3",
   "language": "python",
   "name": "python3"
  },
  "language_info": {
   "codemirror_mode": {
    "name": "ipython",
    "version": 3
   },
   "file_extension": ".py",
   "mimetype": "text/x-python",
   "name": "python",
   "nbconvert_exporter": "python",
   "pygments_lexer": "ipython3",
   "version": "3.6.9"
  }
 },
 "nbformat": 4,
 "nbformat_minor": 4
}
