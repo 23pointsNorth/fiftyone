{
 "cells": [
  {
   "cell_type": "markdown",
   "metadata": {},
   "source": [
    "# Merge Datasets\n",
    "\n",
    "This recipe demonstrates some simple patterns for merging FiftyOne Datasets.\n",
    "\n",
    "Merging datasets is an easy way to:\n",
    "\n",
    "-   Combine multiple datasets with information about the same underlying raw media (images and videos)\n",
    "-   Add model predictions to a FiftyOne dataset, to compare with ground truth annotations and/or other models"
   ]
  },
  {
   "cell_type": "markdown",
   "metadata": {},
   "source": [
    "## Setup\n",
    "\n",
    "In this recipe, we'll work with a dataset downloaded from the [FiftyOne Dataset Zoo](https://voxel51.com/docs/fiftyone/user_guide/dataset_creation/zoo.html).\n",
    "\n",
    "To access the dataset, install `torch` and `torchvision`, if necessary:"
   ]
  },
  {
   "cell_type": "code",
   "execution_count": 1,
   "metadata": {
    "scrolled": true
   },
   "outputs": [],
   "source": [
    "# Modify as necessary (e.g., GPU install). See https://pytorch.org for options\n",
    "!pip install torch\n",
    "!pip install torchvision"
   ]
  },
  {
   "cell_type": "markdown",
   "metadata": {},
   "source": [
    "Then download the validation split of the COCO-2017 dataset to `~/fiftyone/coco-2017/validation`:"
   ]
  },
  {
   "cell_type": "code",
   "execution_count": 2,
   "metadata": {},
   "outputs": [],
   "source": [
    "# Download the validation split of COCO-2017\n",
    "!fiftyone zoo download coco-2017 --splits validation"
   ]
  },
  {
   "cell_type": "markdown",
   "metadata": {},
   "source": [
    "## Merging Datasets\n",
    "\n",
    "This section demonstrates a common pattern for combine multiple datasets with information about the same underlying raw media (images and videos).\n",
    "\n",
    "To proceed, let's create two datasets with partially overlapping samples."
   ]
  },
  {
   "cell_type": "code",
   "execution_count": 4,
   "metadata": {},
   "outputs": [],
   "source": [
    "import fiftyone as fo\n",
    "import fiftyone.zoo as foz\n",
    "\n",
    "EXPORT_DIR = \"/tmp/fiftyone/coco-2017-samples\"\n",
    "\n",
    "# Load 100 random samples from the COCO-2017 validation split\n",
    "dataset = foz.load_zoo_dataset(\n",
    "    \"coco-2017\", split=\"validation\", dataset_name=\"tmp\", shuffle=True, max_samples=100\n",
    ")\n",
    "\n",
    "dataset.export(export_dir=EXPORT_DIR, dataset_type=fo.types.CVATImageDataset)"
   ]
  },
  {
   "cell_type": "code",
   "execution_count": null,
   "metadata": {},
   "outputs": [],
   "source": [
    "dataset1 = fo.Dataset.from_dir(EXPORT_DIR, fo.types.CVATImageDataset, label_field=\"ground_truth\")\n",
    "print(dataset1)"
   ]
  },
  {
   "cell_type": "code",
   "execution_count": null,
   "metadata": {},
   "outputs": [],
   "source": [
    "dataset2 = fo.Dataset.from_dir(EXPORT_DIR, fo.types.CVATImageDataset, label_field=\"predictions\")\n",
    "print(dataset2)"
   ]
  },
  {
   "cell_type": "code",
   "execution_count": null,
   "metadata": {},
   "outputs": [],
   "source": [
    "dataset1.merge_samples(dataset2)\n",
    "print(dataset1)"
   ]
  },
  {
   "cell_type": "code",
   "execution_count": null,
   "metadata": {},
   "outputs": [],
   "source": []
  }
 ],
 "metadata": {
  "kernelspec": {
   "display_name": "Python 3",
   "language": "python",
   "name": "python3"
  },
  "language_info": {
   "codemirror_mode": {
    "name": "ipython",
    "version": 3
   },
   "file_extension": ".py",
   "mimetype": "text/x-python",
   "name": "python",
   "nbconvert_exporter": "python",
   "pygments_lexer": "ipython3",
   "version": "3.6.8"
  }
 },
 "nbformat": 4,
 "nbformat_minor": 4
}
