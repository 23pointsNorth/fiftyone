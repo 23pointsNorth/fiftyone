{
 "cells": [
  {
   "cell_type": "code",
   "execution_count": 9,
   "id": "60081188-dcdb-4850-aef9-57cd688cb323",
   "metadata": {},
   "outputs": [],
   "source": [
    "import math\n",
    "import numpy as np\n",
    "import cv2\n",
    "import torch\n",
    "import open3d as o3d\n",
    "import fiftyone as fo\n",
    "import fiftyone.zoo as foz\n",
    "import fiftyone.utils.kitti as fouk\n",
    "import fiftyone.utils.utils_3d as fou3d\n",
    "from fiftyone import ViewField as F"
   ]
  },
  {
   "cell_type": "code",
   "execution_count": null,
   "id": "72f6701e-bc68-4ab5-9b46-31fa9476c7be",
   "metadata": {},
   "outputs": [],
   "source": []
  },
  {
   "cell_type": "code",
   "execution_count": 10,
   "id": "82ff9a76-5551-4d7a-8cf3-787ec0aa6be8",
   "metadata": {},
   "outputs": [
    {
     "name": "stdout",
     "output_type": "stream",
     "text": [
      "Downloading split 'train' to '/Users/jacobmarks/fiftyone/kitti-multiview/train' if necessary\n",
      "Parsing dataset metadata\n",
      "Found 22443 samples\n",
      "Downloading split 'test' to '/Users/jacobmarks/fiftyone/kitti-multiview/test' if necessary\n",
      "Parsing dataset metadata\n",
      "Found 22554 samples\n",
      "Dataset info written to '/Users/jacobmarks/fiftyone/kitti-multiview/info.json'\n",
      "Loading 'kitti-multiview' split 'train'\n",
      "Importing samples...\n",
      " 100% |█████████████| 22443/22443 [1.4s elapsed, 0s remaining, 16.4K samples/s]         \n",
      "Migrating dataset 'kitti-multiview' to v0.18.0\n",
      "Import complete\n",
      "Loading 'kitti-multiview' split 'test'\n",
      "Importing samples...\n",
      " 100% |█████████████| 22554/22554 [307.4ms elapsed, 0s remaining, 73.6K samples/s]      \n",
      "Migrating dataset '2022.11.22.14.46.41' to v0.18.0\n",
      "Import complete\n",
      "Dataset 'kitti-multiview' created\n"
     ]
    }
   ],
   "source": [
    "dataset = foz.load_zoo_dataset(\"kitti-multiview\")"
   ]
  },
  {
   "cell_type": "code",
   "execution_count": 11,
   "id": "bd4a9979-352a-4a2e-82b7-02ae9bea282e",
   "metadata": {},
   "outputs": [],
   "source": [
    "train_view = dataset.match_tags(\"train\")"
   ]
  },
  {
   "cell_type": "code",
   "execution_count": 12,
   "id": "dde273d4-0fc0-4e1b-a0c1-4cc886135f79",
   "metadata": {},
   "outputs": [],
   "source": [
    "# session = fo.launch_app(dataset)"
   ]
  },
  {
   "cell_type": "code",
   "execution_count": 13,
   "id": "557f4c48-5a95-4088-8f99-6712548c2761",
   "metadata": {},
   "outputs": [],
   "source": [
    "dataset = dataset.match_tags(\"train\")[:200].clone()\n",
    "\n",
    "view = dataset[0:100]\n",
    "### Get rid of right slice because we don't use it at all\n",
    "view.group_slice = \"right\"\n",
    "for group in view.iter_groups():\n",
    "    r = group['right'].id\n",
    "    dataset.delete_samples(r)"
   ]
  },
  {
   "cell_type": "markdown",
   "id": "de9bb56f-3767-404b-9217-93e93c94ad62",
   "metadata": {},
   "source": [
    "## Generate feature maps"
   ]
  },
  {
   "cell_type": "code",
   "execution_count": 14,
   "id": "0d723146-f51d-4b20-9135-8571b45bb6fd",
   "metadata": {},
   "outputs": [],
   "source": [
    "# Front side (of vehicle) Point Cloud boundary for BEV\n",
    "min_bound = (0, -25, -2.73)\n",
    "max_bound = (50, 25, 1.27)\n",
    "bev_width = 608\n",
    "bev_height = 608"
   ]
  },
  {
   "cell_type": "code",
   "execution_count": 23,
   "id": "7f8bc4e2-36ad-4dc4-be60-ab5d18d83d3f",
   "metadata": {},
   "outputs": [],
   "source": [
    "dataset.group_slice = \"pcd\""
   ]
  },
  {
   "cell_type": "code",
   "execution_count": 24,
   "id": "a86dfddc-d09d-4e42-8c37-2c9d0a16c5e1",
   "metadata": {},
   "outputs": [
    {
     "name": "stdout",
     "output_type": "stream",
     "text": [
      "Parsing samples...\n",
      " 100% |█████████████████| 200/200 [17.9s elapsed, 0s remaining, 11.3 samples/s]      \n"
     ]
    }
   ],
   "source": [
    "fou3d.compute_birds_eye_view_maps(dataset, bev_width, bev_height, min_bound = min_bound, max_bound = max_bound)"
   ]
  },
  {
   "cell_type": "code",
   "execution_count": 25,
   "id": "78023506-2da0-4e3c-a959-8bcb621d21e2",
   "metadata": {},
   "outputs": [],
   "source": [
    "class_list = [\"Car\", \"Pedestrian\", \"Cyclist\"]"
   ]
  },
  {
   "cell_type": "code",
   "execution_count": 26,
   "id": "ebd9a5c1-4e8f-4b06-ad95-3e455b3ee6d3",
   "metadata": {},
   "outputs": [],
   "source": [
    "train_view.group_slice = \"pcd\"\n",
    "height = F(\"dimensions\")[0]\n",
    "exp = F(\"ground_truth.detections\").map(height)\n",
    "heights_dict = {}\n",
    "for c in class_list:\n",
    "    heights_dict[c] = train_view.filter_labels(\n",
    "    \"ground_truth\", F(\"label\") == c).mean(exp)"
   ]
  },
  {
   "cell_type": "code",
   "execution_count": null,
   "id": "fe996bda-4696-4993-92c1-4b0c0c56cb0b",
   "metadata": {},
   "outputs": [],
   "source": []
  },
  {
   "cell_type": "code",
   "execution_count": null,
   "id": "5099fe78-0a06-4061-8db4-56d57bfee954",
   "metadata": {},
   "outputs": [],
   "source": []
  },
  {
   "cell_type": "code",
   "execution_count": 27,
   "id": "28787cfb-5552-46e7-9e67-513a3c1f9aa9",
   "metadata": {},
   "outputs": [],
   "source": [
    "# session = fo.launch_app(train_view, auto = False)"
   ]
  },
  {
   "cell_type": "code",
   "execution_count": 28,
   "id": "d4341240-4acc-4058-91cb-96e5ebccd291",
   "metadata": {},
   "outputs": [],
   "source": [
    "# session.url"
   ]
  },
  {
   "cell_type": "markdown",
   "id": "19d728a7-2447-49af-893e-caf6f07fe16d",
   "metadata": {},
   "source": [
    "## Apply Model"
   ]
  },
  {
   "cell_type": "code",
   "execution_count": 29,
   "id": "1add97ca-e5b6-4e35-a111-6cccce625e8d",
   "metadata": {},
   "outputs": [],
   "source": [
    "conf_thresh, nms_thresh = 0.9, 0.3\n",
    "img_size = bev_height\n",
    "args = {\"img_size\": img_size, \"conf_thresh\": conf_thresh, \"nms_thresh\":nms_thresh}\n",
    "model = foz.load_zoo_model(\"complex-yolo-v3-torch\", args = args)"
   ]
  },
  {
   "cell_type": "code",
   "execution_count": 30,
   "id": "48831f19-d74b-4f33-a2b6-23234c1aafc8",
   "metadata": {},
   "outputs": [],
   "source": [
    "model.set_class_heights(heights_dict)"
   ]
  },
  {
   "cell_type": "code",
   "execution_count": 31,
   "id": "c9eb4ced-38e4-4b53-a994-953bcf1acad1",
   "metadata": {},
   "outputs": [],
   "source": [
    "dataset.group_slice = \"bev\""
   ]
  },
  {
   "cell_type": "code",
   "execution_count": 32,
   "id": "304f074e-cbfd-4944-a6a9-636102790408",
   "metadata": {},
   "outputs": [
    {
     "name": "stdout",
     "output_type": "stream",
     "text": []
    },
    {
     "name": "stdout",
     "output_type": "stream",
     "text": [
      " 100% |██████████████████████████████████████████████████████████████████████████████████████| 200/200 [59.4s elapsed, 0s remaining, 3.4 it/s]      \n"
     ]
    }
   ],
   "source": [
    "import fiftyone.utils.complex_yolo as foucy\n",
    "foucy.apply_model(model, dataset, feature_map_field = 'feature_map_filepath', pcd_group_slice = 'pcd', min_bound = min_bound, max_bound = max_bound)"
   ]
  },
  {
   "cell_type": "markdown",
   "id": "357c483f-3dfb-4a42-b76c-f8f8b7580e5d",
   "metadata": {},
   "source": [
    "## Transform coordinates"
   ]
  },
  {
   "cell_type": "code",
   "execution_count": 36,
   "id": "9bbbbeba-1869-4058-929a-ce714ef8b033",
   "metadata": {},
   "outputs": [],
   "source": [
    "def get_calib_path(sample):\n",
    "    sample_path = sample.filepath.split(\"/\")\n",
    "    calib_path = sample_path.copy()\n",
    "    calib_path[-2] = \"calib\"\n",
    "    calib_path = \"/\".join(calib_path)\n",
    "    calib_path = calib_path[:-3] + \"txt\"\n",
    "    return calib_path"
   ]
  },
  {
   "cell_type": "code",
   "execution_count": 119,
   "id": "ae6cf96f-54f9-4bc0-acb1-41be9d12eec1",
   "metadata": {},
   "outputs": [],
   "source": [
    "def get_left_from_pcd(pcd_sample):\n",
    "    dataset = pcd_sample._dataset\n",
    "    dataset.group_slice = \"pcd\"\n",
    "    group = dataset.get_group(pcd_sample.group.id)\n",
    "    left_id = group[\"left\"].id\n",
    "    dataset.group_slice = \"left\"\n",
    "    left_sample = dataset[left_id]\n",
    "    return left_sample"
   ]
  },
  {
   "cell_type": "code",
   "execution_count": 120,
   "id": "4c4fc9f1-61e8-48b6-b74e-c04cd25321a3",
   "metadata": {},
   "outputs": [],
   "source": [
    "def get_corners3d(h, w, l, R, t):\n",
    "    corners3d = np.array(\n",
    "        [\n",
    "            [l / 2, l / 2, -l / 2, -l / 2, l / 2, l / 2, -l / 2, -l / 2],\n",
    "            [0, 0, 0, 0, -h, -h, -h, -h],\n",
    "            [w / 2, -w / 2, -w / 2, w / 2, w / 2, -w / 2, -w / 2, w / 2],\n",
    "        ]\n",
    "    )\n",
    "    return R @ corners3d + t[:, np.newaxis]"
   ]
  },
  {
   "cell_type": "code",
   "execution_count": 184,
   "id": "f430318b-b53e-441f-bd5c-94dd6cb5e38b",
   "metadata": {},
   "outputs": [],
   "source": [
    "def get_img2d_shape(img_sample):\n",
    "    if \"metadata\" in sample:\n",
    "        return img_sample.metadata.width, img_sample.metadata.height\n",
    "    else:\n",
    "        h, w = cv2.imread(img_sample.filepath).shape[:2]\n",
    "        return w, h"
   ]
  },
  {
   "cell_type": "code",
   "execution_count": 190,
   "id": "1cd6cefc-b9c5-4649-9465-8eb387ab7a15",
   "metadata": {},
   "outputs": [],
   "source": [
    "def corners3d_to_img_boxes(P, corners3d, img2d_shape):\n",
    "    \"\"\"\n",
    "    :param corners3d: (N, 8, 3) corners in rect coordinate\n",
    "    :return: boxes: (N, 4) [x1, y1, x2, y2] in img2d coords\n",
    "    \"\"\"\n",
    "    corners3d = corners3d\n",
    "    num_boxes = corners3d.shape[0]\n",
    "    corners3d_hom = np.concatenate((corners3d, np.ones((num_boxes, 8, 1))), axis=2)  # (N, 8, 4)\n",
    "    img_pts = np.matmul(corners3d_hom, P.T)  # (N, 8, 3)\n",
    "\n",
    "    x, y = img_pts[:, :, 0] / img_pts[:, :, 2], img_pts[:, :, 1] / img_pts[:, :, 2]\n",
    "    x1, y1 = np.min(x, axis=1).reshape(-1, 1), np.min(y, axis=1).reshape(-1, 1)\n",
    "    x2, y2 = np.max(x, axis=1).reshape(-1, 1), np.max(y, axis=1).reshape(-1, 1)\n",
    "    \n",
    "    boxes = np.concatenate((x1, y1, x2, y2), axis=1)\n",
    "    \n",
    "    boxes[:, 0] = np.clip(boxes[:, 0], 0, img2d_shape[0] - 1)\n",
    "    boxes[:, 1] = np.clip(boxes[:, 1], 0, img2d_shape[1] - 1)\n",
    "    boxes[:, 2] = np.clip(boxes[:, 2], 0, img2d_shape[0] - 1)\n",
    "    boxes[:, 3] = np.clip(boxes[:, 3], 0, img2d_shape[1] - 1)\n",
    "    \n",
    "    boxes[:, 0]/=img2d_shape[0]\n",
    "    boxes[:, 2]/=img2d_shape[0]\n",
    "    boxes[:, 1]/=img2d_shape[1]\n",
    "    boxes[:, 3]/=img2d_shape[1]\n",
    "    \n",
    "    boxes[:, 2] -= boxes[:, 0]\n",
    "    boxes[:, 3] -= boxes[:, 1]\n",
    "    \n",
    "    return boxes"
   ]
  },
  {
   "cell_type": "code",
   "execution_count": 217,
   "id": "5181ddbd-eac7-49ff-827b-5ffcc80487d7",
   "metadata": {},
   "outputs": [],
   "source": [
    "def add_pcd_sample_detections_to_image(pcd_sample):\n",
    "    if \"predictions\" not in pcd_sample or len(pcd_sample.predictions.detections) == 0:\n",
    "        return\n",
    "    calib_mats = fouk._load_calibration_matrices(get_calib_path(pcd_sample))\n",
    "    P = calib_mats[\"P2\"]\n",
    "    \n",
    "    left_sample = get_left_from_pcd(pcd_sample)\n",
    "    img2d_shape = get_img2d_shape(left_sample)\n",
    "    \n",
    "    corners3d = []\n",
    "    detections3d = pcd_sample.predictions.detections\n",
    "    \n",
    "    for det3d in detections3d:\n",
    "        h, w, l = det3d[\"dimensions\"]\n",
    "        t = np.array(det3d[\"location\"])\n",
    "        R = fouk._roty(det3d[\"rotation\"][1])\n",
    "        corners3d.append(get_corners3d(h, w, l, R, t).T)\n",
    "    corners3d = np.array(corners3d)\n",
    "    bboxes = corners3d_to_img_boxes(P, corners3d, img2d_shape)\n",
    "    \n",
    "    detections2d = []\n",
    "    for i, det3d in enumerate(detections3d):\n",
    "        new_det2d = fo.Detection(\n",
    "            label=det3d.label,\n",
    "            bounding_box=bboxes[i],\n",
    "            confidence=det3d.confidence,\n",
    "            alpha = det3d.alpha\n",
    "        )\n",
    "        detections2d.append(new_det2d)\n",
    "    \n",
    "    left_sample[\"predictions\"] = fo.Detections(detections=detections2d)\n",
    "    left_sample.save()\n",
    "        "
   ]
  },
  {
   "cell_type": "code",
   "execution_count": 222,
   "id": "58d1d39b-3585-423e-bbb5-240ead5ad8e6",
   "metadata": {},
   "outputs": [],
   "source": [
    "def project_detections_to_images(pcd_samples):\n",
    "    for pcd_sample in pcd_samples:\n",
    "        add_pcd_sample_detections_to_image(pcd_sample)"
   ]
  },
  {
   "cell_type": "code",
   "execution_count": 224,
   "id": "f66ae23c-d70a-4f47-a9b7-3fdf990b7869",
   "metadata": {},
   "outputs": [],
   "source": [
    "dataset.group_slice = \"pcd\"\n",
    "pcd_samples = dataset.select_group_slices(\"pcd\")"
   ]
  },
  {
   "cell_type": "code",
   "execution_count": 225,
   "id": "9667d6e6-911b-4aa0-9ac9-5a0ed64e3518",
   "metadata": {},
   "outputs": [],
   "source": [
    "project_detections_to_images(pcd_samples)"
   ]
  },
  {
   "cell_type": "markdown",
   "id": "14eead61-c46a-4aff-b6c5-fca79b91a7c7",
   "metadata": {},
   "source": [
    "## Evaluate detection results"
   ]
  },
  {
   "cell_type": "code",
   "execution_count": 236,
   "id": "6f39243b-2827-48dc-b18e-27aab65de0f5",
   "metadata": {},
   "outputs": [],
   "source": [
    "dataset.group_slice = \"left\"\n",
    "eval_view_2d = dataset.filter_labels(\n",
    "        \"ground_truth\", \n",
    "        F(\"label\").is_in(class_list)\n",
    ")\n",
    "\n",
    "results_2d = eval_view_2d.evaluate_detections(\n",
    "    \"predictions\",\n",
    "    iou = 0.5,\n",
    "    compute_mAP=True,\n",
    ")"
   ]
  },
  {
   "cell_type": "code",
   "execution_count": 249,
   "id": "8cacacc4-d3ac-40a6-9106-a2c298e3dbe2",
   "metadata": {},
   "outputs": [
    {
     "name": "stdout",
     "output_type": "stream",
     "text": [
      "Evaluating detections...\n",
      " 100% |█████████████████| 200/200 [649.5ms elapsed, 0s remaining, 307.9 samples/s]      \n",
      "Performing IoU sweep...\n",
      " 100% |█████████████████| 200/200 [955.2ms elapsed, 0s remaining, 196.5 samples/s]      \n"
     ]
    }
   ],
   "source": [
    "dataset.group_slice = \"pcd\"\n",
    "eval_view_3d = dataset.filter_labels(\n",
    "        \"ground_truth\", \n",
    "        F(\"label\").is_in(class_list)\n",
    ")\n",
    "\n",
    "results_3d = eval_view_3d.evaluate_detections(\n",
    "    \"predictions\",\n",
    "    iou = 0.3,\n",
    "    compute_mAP=True,\n",
    ")"
   ]
  },
  {
   "cell_type": "code",
   "execution_count": 250,
   "id": "e38866fe-75bc-4a92-9740-9d7ac915b73b",
   "metadata": {},
   "outputs": [
    {
     "name": "stdout",
     "output_type": "stream",
     "text": [
      "              precision    recall  f1-score   support\n",
      "\n",
      "         Car       0.72      0.70      0.71       733\n",
      "     Cyclist       0.60      0.54      0.57        46\n",
      "  Pedestrian       0.10      0.11      0.10       104\n",
      "\n",
      "   micro avg       0.63      0.63      0.63       883\n",
      "   macro avg       0.47      0.45      0.46       883\n",
      "weighted avg       0.64      0.63      0.63       883\n",
      "\n"
     ]
    }
   ],
   "source": [
    "results_2d.print_report()"
   ]
  },
  {
   "cell_type": "code",
   "execution_count": 248,
   "id": "ca5987cd-b23a-432b-b89e-6fda90f68848",
   "metadata": {},
   "outputs": [
    {
     "name": "stdout",
     "output_type": "stream",
     "text": [
      "              precision    recall  f1-score   support\n",
      "\n",
      "         Car       0.88      0.86      0.87       733\n",
      "     Cyclist       0.62      0.57      0.59        46\n",
      "  Pedestrian       0.34      0.37      0.35       104\n",
      "\n",
      "   micro avg       0.80      0.79      0.79       883\n",
      "   macro avg       0.61      0.60      0.60       883\n",
      "weighted avg       0.80      0.79      0.80       883\n",
      "\n"
     ]
    }
   ],
   "source": [
    "results_3d.print_report()"
   ]
  },
  {
   "cell_type": "code",
   "execution_count": null,
   "id": "4041fe25-c1ca-40f3-937a-937697c62653",
   "metadata": {},
   "outputs": [],
   "source": []
  },
  {
   "cell_type": "markdown",
   "id": "ba696794-6adf-4e84-b89b-ddc4e16d8f2b",
   "metadata": {},
   "source": [
    "## To do"
   ]
  },
  {
   "cell_type": "markdown",
   "id": "99dad5c5-9d92-4898-a3fb-e276154131da",
   "metadata": {},
   "source": [
    "* Add detections to BEV - ground truth and predictions\n",
    "* Add visualizations along the way\n",
    "    * BEV - only in front of car --> bounds\n",
    "* Description of the model\n",
    "* RGB BEV encoding\n",
    "    * And how the compute_BEV function stores its data, plus WHY\n",
    "* Limitations of the model - no height info --> used average height by class\n",
    "* Add in average $z$ by class\n",
    "* Talk about how the model could be improved with sensor fusion\n",
    "* Different IoU thresholds in $2d$ vs $3d$ because overlap gets smaller as the number of dimensions increases...\n",
    "* Mention setting group slice whenever we want to access a particular group, and how we can't visualize in the app if the group slice is set to pcd\n",
    "* Mention right clicking and moving the mouse/mousepad to drag position in the $3d$ viewer"
   ]
  },
  {
   "cell_type": "code",
   "execution_count": null,
   "id": "99987fdc-872f-4918-99ea-de3c43a1cbe8",
   "metadata": {},
   "outputs": [],
   "source": []
  },
  {
   "cell_type": "code",
   "execution_count": null,
   "id": "d55f74dc-75cb-4c21-8345-75de2ceaf002",
   "metadata": {},
   "outputs": [],
   "source": []
  },
  {
   "cell_type": "code",
   "execution_count": null,
   "id": "bab9b9d0-8ba4-44ea-9a5f-cbfd3404abc7",
   "metadata": {},
   "outputs": [],
   "source": []
  },
  {
   "cell_type": "code",
   "execution_count": null,
   "id": "3b74f447-81d0-4232-8053-18b5e1da3d01",
   "metadata": {},
   "outputs": [],
   "source": []
  },
  {
   "cell_type": "code",
   "execution_count": null,
   "id": "4c79e012-53e5-4f04-b6e1-1ec420ed2f62",
   "metadata": {},
   "outputs": [],
   "source": []
  }
 ],
 "metadata": {
  "kernelspec": {
   "display_name": "Python 3",
   "language": "python",
   "name": "python3"
  },
  "language_info": {
   "codemirror_mode": {
    "name": "ipython",
    "version": 3
   },
   "file_extension": ".py",
   "mimetype": "text/x-python",
   "name": "python",
   "nbconvert_exporter": "python",
   "pygments_lexer": "ipython3",
   "version": "3.9.13"
  }
 },
 "nbformat": 4,
 "nbformat_minor": 5
}
