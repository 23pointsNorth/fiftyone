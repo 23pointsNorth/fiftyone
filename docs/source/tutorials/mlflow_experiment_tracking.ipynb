{
 "cells": [
  {
   "cell_type": "markdown",
   "id": "8df42ce9",
   "metadata": {},
   "source": [
    "# Experiment tracking with MLFlow"
   ]
  },
  {
   "cell_type": "markdown",
   "id": "2542ec1e",
   "metadata": {},
   "source": [
    "Load a FiftyOne dataset:"
   ]
  },
  {
   "cell_type": "code",
   "execution_count": null,
   "id": "9f7d9eb9",
   "metadata": {},
   "outputs": [],
   "source": [
    "import fiftyone as fo\n",
    "import fiftyone.zoo as foz\n",
    "\n",
    "dataset = foz.load_zoo_dataset(\"cifar10\")"
   ]
  },
  {
   "cell_type": "code",
   "execution_count": null,
   "id": "a31209df",
   "metadata": {},
   "outputs": [],
   "source": [
    "from itertools import chain\n",
    "\n",
    "import eta.core.utils as etau\n",
    "\n",
    "from flash.core.classification import FiftyOneLabelsOutput\n",
    "from flash.image import ImageClassificationData, ImageClassifier\n",
    "from flash import Trainer\n",
    "\n",
    "import fiftyone as fo\n",
    "import fiftyone.utils.splits as fous\n",
    "import fiftyone.zoo as foz\n",
    "\n",
    "import fiftyone.utils.mlflow as foum\n",
    "\n",
    "from pytorch_lightning.loggers import MLFlowLogger\n",
    "\n",
    "\n",
    "def train_flash_model_with_mlflow(dataset, mlf_logger, pred_field):\n",
    "    dataset.untag_samples(\"test\")\n",
    "\n",
    "    # Create splits from the dataset\n",
    "    splits = {\"train\": 0.7, \"test\": 0.1, \"val\": 0.1, \"pred\": 0.1}\n",
    "    fous.random_split(dataset, splits)\n",
    "\n",
    "    train_dataset = dataset.match_tags(\"train\")\n",
    "    test_dataset = dataset.match_tags(\"test\")\n",
    "    val_dataset = dataset.match_tags(\"val\")\n",
    "    predict_dataset = dataset.match_tags(\"pred\")\n",
    "\n",
    "    # Create the Datamodule\n",
    "    datamodule = ImageClassificationData.from_fiftyone(\n",
    "        train_dataset=train_dataset,\n",
    "        test_dataset=test_dataset,\n",
    "        val_dataset=val_dataset,\n",
    "        predict_dataset=predict_dataset,\n",
    "        label_field=\"ground_truth\",\n",
    "        batch_size=4,\n",
    "        num_workers=4,\n",
    "    )\n",
    "\n",
    "    # Build the model\n",
    "    model = ImageClassifier(\n",
    "        backbone=\"resnet18\",\n",
    "        labels=datamodule.labels,\n",
    "    )\n",
    "    trainer = Trainer(\n",
    "        max_epochs=1, limit_train_batches=5, limit_val_batches=5,\n",
    "        logger=mlf_logger,\n",
    "    )\n",
    "    trainer.finetune(model, datamodule=datamodule)\n",
    "\n",
    "    predictions = trainer.predict(\n",
    "        model,\n",
    "        datamodule=datamodule,\n",
    "        output=FiftyOneLabelsOutput(labels=datamodule.labels),\n",
    "    )\n",
    "    predictions = list(chain.from_iterable(predictions))  # flatten batches\n",
    "\n",
    "    # Map filepaths to predictions\n",
    "    predictions = {p[\"filepath\"]: p[\"predictions\"] for p in predictions}\n",
    "\n",
    "    # Add predictions to FiftyOne dataset\n",
    "    predict_dataset.set_values(\n",
    "        pred_field, predictions, key_field=\"filepath\",\n",
    "    )"
   ]
  },
  {
   "cell_type": "code",
   "execution_count": null,
   "id": "8393b7b2",
   "metadata": {},
   "outputs": [],
   "source": [
    "# Initialize MLFlow (for flash in this case)\n",
    "tracking_uri = \"file:/tmp/mlruns\"\n",
    "mlf_logger = MLFlowLogger(experiment_name=\"fiftyone_test\", tracking_uri=tracking_uri)"
   ]
  },
  {
   "cell_type": "code",
   "execution_count": null,
   "id": "6939c984",
   "metadata": {},
   "outputs": [],
   "source": [
    "pred_field = \"flash_predictions\"\n",
    "train_flash_model_with_mlflow(dataset, mlf_logger, pred_field)"
   ]
  },
  {
   "cell_type": "code",
   "execution_count": null,
   "id": "d89c6739",
   "metadata": {},
   "outputs": [],
   "source": [
    "# Connect FiftyOne to MLFlow\n",
    "fields = {\n",
    "    \"ground_truth\": \"ground_truth\",\n",
    "    \"predictions\": pred_field,\n",
    "}\n",
    "mlflow_key = \"mlflow_run_1\"\n",
    "\n",
    "foum.connect_flash_mlflogger(dataset, mlflow_key, mlf_logger, fields, tracking_uri)\n",
    "# OR\n",
    "#foum.connect_to_mlflow(dataset, mlflow_key, experiment_id, run_id, fields, tracking_uri)"
   ]
  },
  {
   "cell_type": "code",
   "execution_count": null,
   "id": "205af8f0",
   "metadata": {},
   "outputs": [],
   "source": [
    "foum.launch_mlflow(dataset, mlflow_key)"
   ]
  }
 ],
 "metadata": {
  "kernelspec": {
   "display_name": "mlf",
   "language": "python",
   "name": "mlf"
  },
  "language_info": {
   "codemirror_mode": {
    "name": "ipython",
    "version": 3
   },
   "file_extension": ".py",
   "mimetype": "text/x-python",
   "name": "python",
   "nbconvert_exporter": "python",
   "pygments_lexer": "ipython3",
   "version": "3.8.13"
  }
 },
 "nbformat": 4,
 "nbformat_minor": 5
}
