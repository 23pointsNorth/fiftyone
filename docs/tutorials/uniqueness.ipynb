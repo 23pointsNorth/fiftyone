{
 "cells": [
  {
   "cell_type": "markdown",
   "metadata": {},
   "source": [
    "# Exploring Image Uniqueness with FiftyOne\n",
    "\n",
    "In this walkthrough, we explore how FiftyOne's image uniqueness tool can be\n",
    "used to analyze and extract insights from raw (unlabeled) datasets.\n",
    "\n",
    "This walkthrough covers the following concepts:\n",
    "\n",
    "-   Loading a dataset from the FiftyOne Dataset Zoo\n",
    "-   Applying FiftyOne's sample uniqueness algorithm to your dataset\n",
    "-   Launching the FiftyOne dashboard and visualizing/exploring your data\n",
    "-   Identifying duplicate and near-duplicate images in your dataset\n",
    "-   Identifying the most unique/representative images in your dataset"
   ]
  },
  {
   "cell_type": "markdown",
   "metadata": {},
   "source": [
    "## Setup\n",
    "\n",
    "-   Install `torch` and `torchvision`, if necessary:"
   ]
  },
  {
   "cell_type": "code",
   "execution_count": null,
   "metadata": {},
   "outputs": [],
   "source": [
    "# Modify as necessary (e.g., GPU install). See https://pytorch.org for options\n",
    "!pip install torch\n",
    "!pip install torchvision"
   ]
  },
  {
   "cell_type": "markdown",
   "metadata": {},
   "source": [
    "## Part 1: Finding duplicate and near-duplicate images\n",
    "\n",
    "A common problem in dataset creation is duplicated data. Although this could be\n",
    "found using file hashing---as in the `image_deduplication` walkthrough---it is\n",
    "less possible when small manipulations have occurred in the data. Even more\n",
    "critical for workflows involving model training is the need to get as much\n",
    "power out of each data samples as possible; near-duplicates, which are samples\n",
    "that are exceptionally similar to one another, are intrinsically less valuable\n",
    "for the training scenario. Let's see if we can find such duplicates and\n",
    "near-duplicates in a common dataset: CIFAR-10."
   ]
  },
  {
   "cell_type": "markdown",
   "metadata": {},
   "source": [
    "### Load the dataset\n",
    "\n",
    "Open a Python shell to begin. We will use the CIFAR-10 dataset, which is\n",
    "available in the FiftyOne Dataset Zoo."
   ]
  },
  {
   "cell_type": "code",
   "execution_count": null,
   "metadata": {},
   "outputs": [],
   "source": [
    "import fiftyone as fo\n",
    "import fiftyone.zoo as foz\n",
    "\n",
    "# Load the CIFAR-10 test split\n",
    "# Downloads the dataset from the web if necessary\n",
    "dataset = foz.load_zoo_dataset(\"cifar10\", splits=[\"test\"])"
   ]
  },
  {
   "cell_type": "markdown",
   "metadata": {},
   "source": [
    "### Compute uniqueness\n",
    "\n",
    "Now we can process the entire dataset for uniqueness. This is a fairly\n",
    "expensive operation, but should finish in a few minutes at most. We are\n",
    "processing through all samples in the dataset, then building a representation\n",
    "that relates the samples to each other. Finally, we analyze this representation\n",
    "to output uniqueness."
   ]
  },
  {
   "cell_type": "code",
   "execution_count": null,
   "metadata": {},
   "outputs": [],
   "source": [
    "import fiftyone.brain as fob\n",
    "\n",
    "fob.compute_uniqueness(dataset)"
   ]
  },
  {
   "cell_type": "markdown",
   "metadata": {},
   "source": [
    "The above method populates a `uniqueness` field on each sample that contains\n",
    "the sample's uniqueness score. Let's confirm this by printing some information\n",
    "about the dataset:"
   ]
  },
  {
   "cell_type": "code",
   "execution_count": null,
   "metadata": {},
   "outputs": [],
   "source": [
    "# Now the samples have a \"uniqueness\" field on them\n",
    "print(dataset)\n",
    "print(dataset.view().first())"
   ]
  },
  {
   "cell_type": "markdown",
   "metadata": {},
   "source": [
    "### Visualize to find duplicate and near-duplicate images\n",
    "\n",
    "Now, let's visually inspect the least unique images in the dataset to see if\n",
    "our dataset has any issues:"
   ]
  },
  {
   "cell_type": "code",
   "execution_count": null,
   "metadata": {},
   "outputs": [],
   "source": [
    "# Sort in increasing order of uniqueness (least unique first)\n",
    "dups_view = dataset.view().sort_by(\"uniqueness\")\n",
    "\n",
    "# Launch the dashboard\n",
    "session = fo.launch_dashboard(view=dups_view)"
   ]
  },
  {
   "cell_type": "markdown",
   "metadata": {},
   "source": [
    "You will easily see some near-duplicates in the dashboard. It surprised us that\n",
    "there are duplicates in CIFAR-10, too!\n",
    "\n",
    "Of course, in this scenario, near duplicates are identified from visual\n",
    "inspection. So, how do we get the information out of FiftyOne and back into\n",
    "your working environment. Easy! The `session` variable provides a bidirectional\n",
    "bridge between the dashboard and your Python environment. In this case, we will\n",
    "use the `session.selected` bridge. So, in the dashboard, click on some of the\n",
    "duplicates and near-duplicates. Then, execute the following code in the Python\n",
    "shell."
   ]
  },
  {
   "cell_type": "code",
   "execution_count": null,
   "metadata": {},
   "outputs": [],
   "source": [
    "# Get currently selected images from dashboard\n",
    "dup_ids = session.selected\n",
    "\n",
    "# Mark as duplicates\n",
    "dups_view = dataset.view().select(dup_ids)\n",
    "for sample in dups_view:\n",
    "    sample.tags.append(\"dup\")\n",
    "    sample.save()\n",
    "\n",
    "# Visualize duplicates-only in dashboard\n",
    "session.view = dups_view"
   ]
  },
  {
   "cell_type": "markdown",
   "metadata": {},
   "source": [
    "And the dashboard will only show these samples now. We can, of course access\n",
    "the filepaths and other information about these samples programmatically so you\n",
    "can act on the findings. But, let's do that at the end of Part 2 below!"
   ]
  },
  {
   "cell_type": "markdown",
   "metadata": {},
   "source": [
    "## Part 2: Finding unique samples\n",
    "\n",
    "When building a dataset, it is important to create a diverse dataset with\n",
    "unique and representative samples. Here, we explore FiftyOne's ability to help\n",
    "identify the most unique samples in a raw dataset."
   ]
  },
  {
   "cell_type": "markdown",
   "metadata": {},
   "source": [
    "### Download some images\n",
    "\n",
    "This walkthrough will process a directory of images and compute their\n",
    "uniqueness. The first thing we need to do is get some images. Let's get some\n",
    "images from Flickr, to keep this interesting!\n",
    "\n",
    "You need a Flickr API key to do this. If you already have a Flickr API key,\n",
    "then skip the next steps.\n",
    "\n",
    "1. Go to <https://www.flickr.com/services/apps/create/>\n",
    "2. Click on Request API Key.\n",
    "   (<https://www.flickr.com/services/apps/create/apply/>) You will need to\n",
    "   login (create account if needed, free).\n",
    "3. Click on \"Non-Commercial API Key\" (this is just for a test usage) and fill\n",
    "   in the information on the next page. You do not need to be very descriptive;\n",
    "   your API will automatically appear on the following page.\n",
    "4. Install the Flickr API: `pip install flickrapi`\n",
    "\n",
    "You will also need to enable ETA's storage support to run this script, if you\n",
    "haven't yet:"
   ]
  },
  {
   "cell_type": "code",
   "execution_count": null,
   "metadata": {},
   "outputs": [],
   "source": [
    "!pip install --index https://pypi.voxel51.com voxel51-eta[storage]"
   ]
  },
  {
   "cell_type": "markdown",
   "metadata": {},
   "source": [
    "Next, let's download three sets of images to process together. I suggest using\n",
    "three distinct object-nouns like \"badger\", \"wolverine\", and \"kitten\". For the\n",
    "actual downloading, we will use the provided `query_flickr.py` script:"
   ]
  },
  {
   "cell_type": "code",
   "execution_count": null,
   "metadata": {},
   "outputs": [],
   "source": [
    "# Your credentials here\n",
    "!KEY=XXXXXXXXXXXXXXXXXXXXXXXXXXXXXXXX\n",
    "!SECRET=YYYYYYYYYYYYYYYY\n",
    "\n",
    "!python -m fiftyone.tutorials.query_flickr $KEY $SECRET \"badger\"\n",
    "!python -m fiftyone.tutorials.query_flickr $KEY $SECRET \"wolverine\"\n",
    "!python -m fiftyone.tutorials.query_flickr $KEY $SECRET \"kitten\""
   ]
  },
  {
   "cell_type": "markdown",
   "metadata": {},
   "source": [
    "The rest of this walkthrough assumes you've downloaded some images to your\n",
    "local `.data/` directory."
   ]
  },
  {
   "cell_type": "markdown",
   "metadata": {},
   "source": [
    "### Load the data into FiftyOne\n",
    "\n",
    "In a Python shell, let's now work through getting this data into FiftyOne and\n",
    "working with it."
   ]
  },
  {
   "cell_type": "code",
   "execution_count": null,
   "metadata": {},
   "outputs": [],
   "source": [
    "import fiftyone as fo\n",
    "\n",
    "dataset = fo.Dataset.from_images_dir(\n",
    "    \"data\", recursive=True, name=\"flickr-images\"\n",
    ")\n",
    "\n",
    "print(dataset)\n",
    "print(dataset.view().first())"
   ]
  },
  {
   "cell_type": "markdown",
   "metadata": {},
   "source": [
    "The above command uses factory method on the `Dataset` class to traverse a\n",
    "directory of images (including subdirectories) and generate a dataset instance\n",
    "in FiftyOne containing those images.\n",
    "\n",
    "Note that the images are not loaded from disk, so this operation is fast. The\n",
    "first argument is the path to the directory of images on disk, and the third is\n",
    "a name for the dataset.\n",
    "\n",
    "With the dataset loaded into FiftyOne, we can easily launch a dashboard and\n",
    "visualize it:"
   ]
  },
  {
   "cell_type": "code",
   "execution_count": null,
   "metadata": {},
   "outputs": [],
   "source": [
    "session = fo.launch_dashboard(dataset=dataset)"
   ]
  },
  {
   "cell_type": "markdown",
   "metadata": {},
   "source": [
    "Please refer to the `User Guides` for more\n",
    "useful things you can do with the dataset and dashboard."
   ]
  },
  {
   "cell_type": "markdown",
   "metadata": {},
   "source": [
    "### Compute uniqueness and analyze\n",
    "\n",
    "Now, let's analyze the data. For example, we may want to understand what are\n",
    "the most unique images among the data as they may inform or harm model\n",
    "training; we may want to discover duplicates or redundant samples.\n",
    "\n",
    "Continuing in the same Python shell, let's compute and visualize uniqueness."
   ]
  },
  {
   "cell_type": "code",
   "execution_count": null,
   "metadata": {},
   "outputs": [],
   "source": [
    "import fiftyone.brain as fob\n",
    "\n",
    "fob.compute_uniqueness(dataset)\n",
    "\n",
    "# Now the samples have a \"uniqueness\" field on them\n",
    "print(dataset)\n",
    "print(dataset.view().first())\n",
    "\n",
    "# Sort by uniqueness (most unique first)\n",
    "rank_view = dataset.view().sort_by(\"uniqueness\", reverse=True)\n",
    "\n",
    "# Visualize in the dashboard\n",
    "session.view = rank_view"
   ]
  },
  {
   "cell_type": "markdown",
   "metadata": {},
   "source": [
    "Now, just visualizing the samples is interesting, but we want more. We want to\n",
    "get the most unique samples from our dataset so that we can use them in our\n",
    "work. Let's do just that. In the same Python session, execute the following\n",
    "code."
   ]
  },
  {
   "cell_type": "code",
   "execution_count": null,
   "metadata": {},
   "outputs": [],
   "source": [
    "# Verify that the most unique sample has the maximal uniqueness of 1.0\n",
    "print(rank_view.first())\n",
    "\n",
    "# Extract paths to 10 most unique samples\n",
    "ten_best = [x.filepath for x in rank_view.limit(10)]\n",
    "\n",
    "for filepath in ten_best:\n",
    "    print(filepath)\n",
    "\n",
    "# Then you can do what you want with these.\n",
    "# Output to csv or json, send images to your annotation team, seek additional\n",
    "# similar data, etc."
   ]
  }
 ],
 "metadata": {
  "kernelspec": {
   "display_name": "Python 3",
   "language": "python",
   "name": "python3"
  },
  "language_info": {
   "codemirror_mode": {
    "name": "ipython",
    "version": 3
   },
   "file_extension": ".py",
   "mimetype": "text/x-python",
   "name": "python",
   "nbconvert_exporter": "python",
   "pygments_lexer": "ipython3",
   "version": "3.6.9"
  }
 },
 "nbformat": 4,
 "nbformat_minor": 4
}
