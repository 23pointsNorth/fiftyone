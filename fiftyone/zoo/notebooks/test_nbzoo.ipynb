{
 "cells": [
  {
   "cell_type": "markdown",
   "id": "limiting-consumption",
   "metadata": {},
   "source": [
    "# FiftyOne Notebook Zoo Test\n",
    "\n",
    "Automatically load variables from FiftyOne when this notebook is launched using\n",
    "```python\n",
    "import fiftyone.zoo as foz\n",
    "\n",
    "dataset = foz.load_zoo_dataset(\"quickstart\")\n",
    "view = dataset[1:15]\n",
    "field = \n",
    "foz.launch_notebook(\n",
    "    \"test\",\n",
    "    view=view,\n",
    "    field=\"ground_truth\",\n",
    ")\n",
    "```"
   ]
  },
  {
   "cell_type": "code",
   "execution_count": null,
   "id": "welsh-investor",
   "metadata": {},
   "outputs": [],
   "source": [
    "import fiftyone as fo"
   ]
  },
  {
   "cell_type": "code",
   "execution_count": null,
   "id": "electric-academy",
   "metadata": {},
   "outputs": [],
   "source": [
    "%load_fo_view view\n",
    "%load_fo_var field"
   ]
  },
  {
   "cell_type": "code",
   "execution_count": null,
   "id": "sized-grade",
   "metadata": {},
   "outputs": [],
   "source": [
    "print(view)"
   ]
  },
  {
   "cell_type": "code",
   "execution_count": null,
   "id": "numeric-painting",
   "metadata": {},
   "outputs": [],
   "source": [
    "selected_field_view = view.select_fields(field)\n",
    "\n",
    "print(selected_field_view)"
   ]
  },
  {
   "cell_type": "code",
   "execution_count": null,
   "id": "established-senior",
   "metadata": {},
   "outputs": [],
   "source": []
  }
 ],
 "metadata": {
  "kernelspec": {
   "display_name": "fo",
   "language": "python",
   "name": "fo"
  },
  "language_info": {
   "codemirror_mode": {
    "name": "ipython",
    "version": 3
   },
   "file_extension": ".py",
   "mimetype": "text/x-python",
   "name": "python",
   "nbconvert_exporter": "python",
   "pygments_lexer": "ipython3",
   "version": "3.6.9"
  }
 },
 "nbformat": 4,
 "nbformat_minor": 5
}
